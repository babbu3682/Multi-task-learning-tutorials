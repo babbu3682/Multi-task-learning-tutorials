{
 "cells": [
  {
   "cell_type": "code",
   "execution_count": null,
   "metadata": {},
   "outputs": [],
   "source": [
    "# Install required libs\n",
    "!sudo pip install -U segmentation-models-pytorch albumentations scikit-image --user "
   ]
  },
  {
   "cell_type": "code",
   "execution_count": null,
   "metadata": {},
   "outputs": [],
   "source": [
    "!sudo pip install scikit-image"
   ]
  },
  {
   "cell_type": "code",
   "execution_count": null,
   "metadata": {},
   "outputs": [],
   "source": [
    "!sudo pip uninstall -y segmentation-models-pytorch scikit-image"
   ]
  },
  {
   "cell_type": "markdown",
   "metadata": {},
   "source": [
    "## Loading data"
   ]
  },
  {
   "cell_type": "code",
   "execution_count": 1,
   "metadata": {},
   "outputs": [
    {
     "name": "stdout",
     "output_type": "stream",
     "text": [
      "Sat Sep 11 12:12:46 2021       \n",
      "+-----------------------------------------------------------------------------+\n",
      "| NVIDIA-SMI 460.73.01    Driver Version: 460.73.01    CUDA Version: 11.2     |\n",
      "|-------------------------------+----------------------+----------------------+\n",
      "| GPU  Name        Persistence-M| Bus-Id        Disp.A | Volatile Uncorr. ECC |\n",
      "| Fan  Temp  Perf  Pwr:Usage/Cap|         Memory-Usage | GPU-Util  Compute M. |\n",
      "|                               |                      |               MIG M. |\n",
      "|===============================+======================+======================|\n",
      "|   0  TITAN RTX           Off  | 00000000:02:00.0 Off |                  N/A |\n",
      "| 41%   52C    P2    92W / 280W |   5930MiB / 24220MiB |     49%      Default |\n",
      "|                               |                      |                  N/A |\n",
      "+-------------------------------+----------------------+----------------------+\n",
      "|   1  TITAN RTX           Off  | 00000000:03:00.0 Off |                  N/A |\n",
      "| 64%   85C    P2   209W / 280W |   7431MiB / 24220MiB |     35%      Default |\n",
      "|                               |                      |                  N/A |\n",
      "+-------------------------------+----------------------+----------------------+\n",
      "|   2  TITAN RTX           Off  | 00000000:82:00.0 Off |                  N/A |\n",
      "| 41%   33C    P8     7W / 280W |      3MiB / 24220MiB |      0%      Default |\n",
      "|                               |                      |                  N/A |\n",
      "+-------------------------------+----------------------+----------------------+\n",
      "|   3  TITAN RTX           Off  | 00000000:83:00.0 Off |                  N/A |\n",
      "| 41%   44C    P8    14W / 280W |      3MiB / 24220MiB |      0%      Default |\n",
      "|                               |                      |                  N/A |\n",
      "+-------------------------------+----------------------+----------------------+\n",
      "                                                                               \n",
      "+-----------------------------------------------------------------------------+\n",
      "| Processes:                                                                  |\n",
      "|  GPU   GI   CI        PID   Type   Process name                  GPU Memory |\n",
      "|        ID   ID                                                   Usage      |\n",
      "|=============================================================================|\n",
      "+-----------------------------------------------------------------------------+\n"
     ]
    }
   ],
   "source": [
    "import warnings\n",
    "warnings.filterwarnings(\"ignore\")\n",
    "\n",
    "!nvidia-smi\n",
    "import os\n",
    "os.environ['CUDA_VISIBLE_DEVICES'] = '0'\n",
    "\n",
    "import torch\n",
    "import numpy as np\n",
    "import cv2\n",
    "import matplotlib.pyplot as plt\n",
    "import glob, natsort"
   ]
  },
  {
   "cell_type": "code",
   "execution_count": 2,
   "metadata": {},
   "outputs": [
    {
     "name": "stdout",
     "output_type": "stream",
     "text": [
      "P: 75 (22.73%) N: 255 (77.27%) Total: 330\n",
      "P: 14 (20.00%) N: 56 (80.00%) Total: 70\n",
      "P: 21 (21.00%) N: 79 (79.00%) Total: 100\n"
     ]
    }
   ],
   "source": [
    "def count_nonzeros(flist):\n",
    "    count = 0\n",
    "    for idx in range(len(flist)):\n",
    "        fname = flist[idx]\n",
    "        mask = cv2.imread(fname)\n",
    "        mask[mask!= 0] = 255\n",
    "        if len(np.unique(mask))!= 1:\n",
    "            count += 1\n",
    "    P = count\n",
    "    N = len(flist) - P\n",
    "    print('P: {} ({:.2f}%) N: {} ({:.2f}%) Total: {}'.format(P, P/len(flist)*100, N, N/len(flist)*100, P+N))\n",
    "\n",
    "flist = glob.glob('SSIM_seg/trainannot/*')\n",
    "count_nonzeros(flist)\n",
    "flist = glob.glob('SSIM_seg/valannot/*')\n",
    "count_nonzeros(flist)\n",
    "flist = glob.glob('SSIM_seg/testannot/*')\n",
    "count_nonzeros(flist)"
   ]
  },
  {
   "cell_type": "code",
   "execution_count": 3,
   "metadata": {},
   "outputs": [],
   "source": [
    "list_x = glob.glob('SSIM_seg/train/*.png')\n",
    "list_y = glob.glob('SSIM_seg/trainannot/*.png')\n",
    "\n",
    "list_x = glob.glob('SSIM_seg/val/*.png')\n",
    "list_y = glob.glob('SSIM_seg/valannot/*.png')\n",
    "\n",
    "list_x = glob.glob('SSIM_seg/test/*.png')\n",
    "list_y = glob.glob('SSIM_seg/testannot/*.png')\n",
    "\n",
    "for idx in range(len(list_x)):\n",
    "    if list_x[idx].split('.')[-1] != list_y[idx].split('.')[-1]:\n",
    "        print(idx)"
   ]
  },
  {
   "cell_type": "code",
   "execution_count": 4,
   "metadata": {},
   "outputs": [],
   "source": [
    "DATA_DIR = './SSIM_seg/'\n",
    "\n",
    "x_train_dir = os.path.join(DATA_DIR, 'train')\n",
    "y_train_dir = os.path.join(DATA_DIR, 'trainannot')\n",
    "\n",
    "x_valid_dir = os.path.join(DATA_DIR, 'val')\n",
    "y_valid_dir = os.path.join(DATA_DIR, 'valannot')\n",
    "\n",
    "x_test_dir = os.path.join(DATA_DIR, 'test')\n",
    "y_test_dir = os.path.join(DATA_DIR, 'testannot')"
   ]
  },
  {
   "cell_type": "code",
   "execution_count": 5,
   "metadata": {},
   "outputs": [],
   "source": [
    "# helper function for data visualization\n",
    "def visualize(**images):\n",
    "    \"\"\"Plot images in one row.\"\"\"\n",
    "    \n",
    "    n = len(images)\n",
    "    plt.figure(figsize=(16, 5))\n",
    "    for i, (name, image) in enumerate(images.items()):\n",
    "        if torch.is_tensor(image):\n",
    "            image = image.permute(1,2,0)#.int()\n",
    "        plt.subplot(1, n, i + 1)\n",
    "        plt.xticks([])\n",
    "        plt.yticks([])\n",
    "        plt.title(' '.join(name.split('_')).title())\n",
    "        plt.imshow(image,cmap='gray')\n",
    "    plt.show()"
   ]
  },
  {
   "cell_type": "markdown",
   "metadata": {},
   "source": [
    "### Dataloader\n",
    "\n",
    "Writing helper class for data extraction, tranformation and preprocessing  \n",
    "https://pytorch.org/docs/stable/data"
   ]
  },
  {
   "cell_type": "code",
   "execution_count": 6,
   "metadata": {},
   "outputs": [],
   "source": [
    "from torch.utils.data import DataLoader\n",
    "from torch.utils.data import Dataset as BaseDataset\n",
    "import pylab as plt"
   ]
  },
  {
   "cell_type": "code",
   "execution_count": 7,
   "metadata": {},
   "outputs": [],
   "source": [
    "class Dataset(BaseDataset):\n",
    "    \"\"\"\n",
    "    \n",
    "    Args:\n",
    "        images_dir (str): path to images folder\n",
    "        masks_dir (str): path to segmentation masks folder\n",
    "        augmentation (albumentations.Compose): data transfromation pipeline \n",
    "            (e.g. flip, scale, etc.)\n",
    "        preprocessing (albumentations.Compose): data preprocessing \n",
    "            (e.g. noralization, shape manipulation, etc.)\n",
    "    \n",
    "    \"\"\"\n",
    "    \n",
    "    def __init__(\n",
    "            self, \n",
    "            images_dir, \n",
    "            masks_dir, \n",
    "            augmentation=None, \n",
    "    ):\n",
    "        self.images_fps = natsort.natsorted(glob.glob(images_dir+'/*'))\n",
    "        self.masks_fps = natsort.natsorted(glob.glob(masks_dir+'/*'))\n",
    "        self.augmentation = augmentation\n",
    "    \n",
    "    def __getitem__(self, i):\n",
    "        \n",
    "        # read data\n",
    "        image = cv2.imread(self.images_fps[i])\n",
    "        image = cv2.cvtColor(image, cv2.COLOR_BGR2RGB)\n",
    "        \n",
    "        fname = self.masks_fps[i]        \n",
    "        if fname[-3:] == 'png':\n",
    "            mask = cv2.imread(self.masks_fps[i], 0)\n",
    "            mask = np.expand_dims(mask,-1)\n",
    "            mask[mask!=0] = 1\n",
    "            gt = np.array([1]) if np.count_nonzero(mask) else np.array([0])\n",
    "            gt = gt.astype(np.float32)\n",
    "        else:\n",
    "            gt = np.load(self.masks_fps[i])\n",
    "            gt = gt.astype(np.float32)\n",
    "            mask = np.zeros_like(image)\n",
    "            \n",
    "        # apply augmentations\n",
    "        if self.augmentation:\n",
    "            try:\n",
    "                sample = self.augmentation(image=image, mask=mask)\n",
    "                image, mask = sample['image'], sample['mask']\n",
    "            except:\n",
    "                sample = self.augmentation(image=image)\n",
    "                image = sample['image']\n",
    "        \n",
    "        image = image.astype(np.float32)\n",
    "        image = image/255.\n",
    "        image = np.moveaxis(image,-1,0)\n",
    "        image = torch.tensor(image)\n",
    "        mask = mask.astype(np.float32)\n",
    "        mask = np.moveaxis(mask,-1,0)\n",
    "        mask = torch.tensor(mask)\n",
    "        gt = torch.tensor(gt)\n",
    "            \n",
    "        return {'x' : image, 'y_seg' : mask, 'y_cls' : gt}\n",
    "        \n",
    "    def __len__(self):\n",
    "        return len(self.images_fps)"
   ]
  },
  {
   "cell_type": "markdown",
   "metadata": {},
   "source": [
    "### Augmentations"
   ]
  },
  {
   "cell_type": "code",
   "execution_count": 8,
   "metadata": {},
   "outputs": [],
   "source": [
    "import albumentations as albu\n",
    "def get_training_augmentation():\n",
    "    train_transform = [\n",
    "\n",
    "        albu.HorizontalFlip(p=0.5),\n",
    "        albu.ShiftScaleRotate(scale_limit=0.05, rotate_limit=10, shift_limit=0.02, border_mode=4, p=.5),\n",
    "        albu.IAAAdditiveGaussianNoise(scale=(1, 5),p=0.2),\n",
    "        albu.IAAPerspective(scale=(0.01, 0.02),p=0.5),\n",
    "        \n",
    "        albu.RandomBrightnessContrast(brightness_limit=(-0.2, 0.2), contrast_limit=(-0.2, 0.2), brightness_by_max=False, p=0.5),\n",
    "        albu.RandomGamma(gamma_limit=(80,120), p=.5),\n",
    "        albu.RandomToneCurve(scale=0.1,p=.5), \n",
    "        albu.HueSaturationValue(hue_shift_limit=10, sat_shift_limit=10, val_shift_limit=10, p=.5),\n",
    "\n",
    "        albu.OneOf(\n",
    "            [\n",
    "                albu.IAASharpen(p=.5),        \n",
    "                albu.GaussNoise(var_limit=0.02, mean=0, p=0.5),\n",
    "                albu.MultiplicativeNoise(multiplier=(0.98, 1.02), p=0.5),\n",
    "                albu.ISONoise(color_shift=(0.01, 0.02),intensity=(0.1, 0.3),p=0.5),\n",
    "            ],\n",
    "            p=0.5,\n",
    "        ),\n",
    "    ]\n",
    "    return albu.Compose(train_transform)\n",
    "\n",
    "\n",
    "def get_validation_augmentation():\n",
    "    \"\"\"Add paddings to make image shape divisible by 32\"\"\"\n",
    "    test_transform = [\n",
    "\n",
    "    ]\n",
    "    return albu.Compose(test_transform)"
   ]
  },
  {
   "cell_type": "code",
   "execution_count": 9,
   "metadata": {
    "scrolled": true
   },
   "outputs": [],
   "source": [
    "train_dataset = Dataset(\n",
    "    x_train_dir, \n",
    "    y_train_dir, \n",
    "    augmentation=get_training_augmentation(), \n",
    ")\n",
    "# \n",
    "valid_dataset = Dataset(\n",
    "    x_valid_dir, \n",
    "    y_valid_dir, \n",
    "    augmentation=get_validation_augmentation(), \n",
    ") \n",
    "\n",
    "test_dataset = Dataset(\n",
    "    x_test_dir, \n",
    "    y_test_dir, \n",
    "    augmentation=get_validation_augmentation(), \n",
    ")\n",
    "\n",
    "train_loader = DataLoader(train_dataset, batch_size=16, shuffle=True, num_workers=4)\n",
    "valid_loader = DataLoader(valid_dataset, batch_size=1, shuffle=False, num_workers=1)\n",
    "test_loader = DataLoader(test_dataset, batch_size=1, shuffle=False, num_workers=1)"
   ]
  },
  {
   "cell_type": "code",
   "execution_count": 10,
   "metadata": {},
   "outputs": [
    {
     "name": "stdout",
     "output_type": "stream",
     "text": [
      "torch.Size([3, 256, 256]) torch.Size([1, 256, 256]) torch.Size([1])\n"
     ]
    },
    {
     "data": {
      "image/png": "[encoded data removed]",
      "text/plain": [
       "<Figure size 1152x360 with 2 Axes>"
      ]
     },
     "metadata": {},
     "output_type": "display_data"
    }
   ],
   "source": [
    "# same image with different random transforms\n",
    "\n",
    "batch = next(iter(train_loader))\n",
    "x = batch['x'][0]\n",
    "y_seg = batch['y_seg'][0]\n",
    "y_cls = batch['y_cls'][0]\n",
    "\n",
    "print(x.shape,y_seg.shape,y_cls.shape)\n",
    "visualize(image=x, mask=y_seg)"
   ]
  },
  {
   "cell_type": "markdown",
   "metadata": {},
   "source": [
    "## Create model and train"
   ]
  },
  {
   "cell_type": "code",
   "execution_count": 11,
   "metadata": {},
   "outputs": [],
   "source": [
    "import torch\n",
    "import torch.nn as nn\n",
    "import torch.nn.functional as F\n",
    "import numpy as np\n",
    "import segmentation_models_pytorch as smp\n",
    "import tqdm\n",
    "from tqdm import trange"
   ]
  },
  {
   "cell_type": "code",
   "execution_count": 12,
   "metadata": {},
   "outputs": [],
   "source": [
    "ENCODER = 'resnet152'\n",
    "# ENCODER = 'efficientnet-b4'\n",
    "\n",
    "ENCODER_WEIGHTS = 'imagenet'\n",
    "ACTIVATION = 'softmax' # could be None for logits or 'softmax2d' for multiclass segmentation\n",
    "DEVICE = 'cuda'\n",
    "\n",
    "aux_params=dict(\n",
    "    pooling='avg',             # one of 'avg', 'max'\n",
    "    dropout=0.5,               # dropout ratio, default is None\n",
    "    activation='sigmoid',      # activation function, default is None\n",
    "    classes=1,                 # define number of output labels\n",
    ")\n",
    "aux_params=None\n",
    "\n",
    "# create segmentation model with pretrained encoder\n",
    "model = smp.Unet(\n",
    "    encoder_name=ENCODER, \n",
    "    encoder_weights=ENCODER_WEIGHTS, \n",
    "    classes=2, \n",
    "    activation=ACTIVATION,\n",
    "    aux_params = aux_params,\n",
    ").cuda()\n",
    "\n",
    "# preprocessing_fn = smp.encoders.get_preprocessing_fn(ENCODER, ENCODER_WEIGHTS)"
   ]
  },
  {
   "cell_type": "code",
   "execution_count": 37,
   "metadata": {},
   "outputs": [
    {
     "data": {
      "image/png": "[encoded data removed]",
      "text/plain": [
       "<Figure size 864x576 with 2 Axes>"
      ]
     },
     "metadata": {
      "needs_background": "light"
     },
     "output_type": "display_data"
    },
    {
     "name": "stderr",
     "output_type": "stream",
     "text": [
      "100%|██████████| 100/100 [20:56<00:00, 12.57s/it]"
     ]
    },
    {
     "name": "stdout",
     "output_type": "stream",
     "text": [
      "Accuracy\n",
      "\ttraining         \t (min:    0.000, max:    0.000, cur:    0.000)\n",
      "\tvalidation       \t (min:    0.000, max:    0.000, cur:    0.000)\n",
      "Loss\n",
      "\ttraining         \t (min:    0.393, max:    0.638, cur:    0.400)\n",
      "\tvalidation       \t (min:    0.470, max:    0.601, cur:    0.486)\n"
     ]
    },
    {
     "name": "stderr",
     "output_type": "stream",
     "text": [
      "\n"
     ]
    }
   ],
   "source": [
    "import monai\n",
    "import sklearn\n",
    "import sklearn.metrics\n",
    "\n",
    "class DiceBCELoss(nn.Module):\n",
    "    def __init__(self):        \n",
    "        super(DiceBCELoss, self).__init__()\n",
    "        self.dice = monai.losses.GeneralizedDiceLoss(sigmoid=False)\n",
    "        self.ce = nn.BCELoss()        \n",
    "        \n",
    "    def forward(self,yhat,y):\n",
    "        dice = self.dice(yhat,y)\n",
    "        ce = self.ce(yhat,y)\n",
    "        return dice+ce\n",
    "\n",
    "class CELoss(nn.Module):\n",
    "    def __init__(self):\n",
    "        super(CELoss, self).__init__()\n",
    "        self.ce = nn.CrossEntropyLoss(ignore_index= 100)\n",
    "        \n",
    "    def forward(self,yhat,y):\n",
    "        y = y[:,0].long()\n",
    "        loss = self.ce(yhat,y)\n",
    "        return loss \n",
    "\n",
    "class DiceCELoss(nn.Module):\n",
    "    def __init__(self):        \n",
    "        super(DiceCELoss, self).__init__()\n",
    "        self.dice = monai.losses.GeneralizedDiceLoss(to_onehot_y=True)\n",
    "        self.ce = CELoss()        \n",
    "        \n",
    "    def forward(self,yhat,y):\n",
    "        dice = self.dice(yhat,y)\n",
    "        ce = self.ce(yhat,y)\n",
    "        return dice+ce\n",
    "    \n",
    "epochs = 100\n",
    "lossfn_cls = nn.BCELoss()\n",
    "lossfn_seg = DiceCELoss()\n",
    "# lossfn = DiceCELoss()\n",
    "metric = sklearn.metrics.f1_score\n",
    "optimizer = torch.optim.Adam(model.parameters(),lr=1e-4)\n",
    "\n",
    "def train():\n",
    "    model.train()\n",
    "    loss_epoch = list()\n",
    "    acc_epoch = list()\n",
    "    \n",
    "    for idx, batch in enumerate(train_loader):\n",
    "        x, y_seg, y_cls = batch['x'],batch['y_seg'],batch['y_cls'] \n",
    "        x, y_seg, y_cls = x.cuda(), y_seg.cuda(), y_cls.cuda()\n",
    "        yhat = model(x)\n",
    "        \n",
    "        if isinstance(yhat,tuple):\n",
    "            yhat_seg, yhat_cls = yhat\n",
    "            loss_seg = lossfn_seg(yhat_seg,y_seg)\n",
    "            loss = lossfn_cls(yhat_cls,y_cls) + loss_seg\n",
    "            acc = metric(y_cls.cpu().detach().numpy().flatten(),yhat_cls.cpu().detach().numpy().flatten().round()) \n",
    "        else:\n",
    "            try:\n",
    "                loss = lossfn_cls(yhat,y_cls)\n",
    "                acc = metric(y_cls.cpu().detach().numpy().flatten(),yhat.cpu().detach().numpy().flatten().round()) \n",
    "            except:\n",
    "                loss = lossfn_seg(yhat,y_seg)\n",
    "                acc = 0\n",
    "                \n",
    "        optimizer.zero_grad()\n",
    "        loss.backward()\n",
    "        optimizer.step()\n",
    "        loss_epoch.append(loss.cpu().detach().numpy())\n",
    "        acc_epoch.append(acc)\n",
    "        \n",
    "    return np.mean(loss_epoch), np.mean(acc_epoch)\n",
    "\n",
    "def valid():\n",
    "    model.eval()\n",
    "    loss_epoch = list()\n",
    "    acc_epoch = list()\n",
    "    \n",
    "    for idx, batch in enumerate(valid_loader):\n",
    "        x, y_seg, y_cls = batch['x'],batch['y_seg'],batch['y_cls'] \n",
    "        x, y_seg, y_cls = x.cuda(), y_seg.cuda(), y_cls.cuda()\n",
    "        \n",
    "        with torch.no_grad():\n",
    "            yhat = model(x)\n",
    "            if isinstance(yhat,tuple):\n",
    "                yhat_seg, yhat_cls = yhat\n",
    "                loss_seg = lossfn_seg(yhat_seg,y_seg)\n",
    "                loss = lossfn_cls(yhat_cls,y_cls) + loss_seg\n",
    "                acc = metric(y_cls.cpu().detach().numpy().flatten(),yhat_cls.cpu().detach().numpy().flatten().round()) \n",
    "            else:\n",
    "                try:\n",
    "                    loss = lossfn_cls(yhat,y_cls)\n",
    "                    acc = metric(y_cls.cpu().detach().numpy().flatten(),yhat.cpu().detach().numpy().flatten().round()) \n",
    "                except:\n",
    "                    loss = lossfn_seg(yhat,y_seg)\n",
    "                    acc = 0                \n",
    "            \n",
    "        loss_epoch.append(loss.cpu().detach().numpy())\n",
    "        acc_epoch.append(acc)\n",
    "    return np.mean(loss_epoch), np.mean(acc_epoch)\n",
    "\n",
    "def test():\n",
    "    model.eval()\n",
    "    \n",
    "    xs = list()\n",
    "    y_segs = list()\n",
    "    y_clss = list()\n",
    "    yhat_segs = list()\n",
    "    yhat_clss = list()\n",
    "    \n",
    "    for idx, batch in tqdm.tqdm(enumerate(test_loader)):\n",
    "        x, y_seg, y_cls = batch['x'],batch['y_seg'],batch['y_cls'] \n",
    "        xs.append(x)\n",
    "        y_segs.append(y_seg)\n",
    "        y_clss.append(y_cls)\n",
    "        x, y_seg, y_cls = x.cuda(), y_seg.cuda(), y_cls.cuda()\n",
    "        with torch.no_grad():\n",
    "            yhat = model(x)            \n",
    "            if isinstance(yhat,tuple):\n",
    "                yhat_seg, yhat_cls = yhat\n",
    "                yhat_segs.append(yhat_seg.cpu().detach().numpy())\n",
    "                yhat_clss.append(yhat_cls.cpu().detach().numpy())\n",
    "            else:\n",
    "                yhat_clss.append(yhat.cpu().detach().numpy())\n",
    "                \n",
    "    return {'xs':xs,'y_segs':y_segs,'y_clss':y_clss, 'yhat_segs':yhat_segs, 'yhat_clss':yhat_clss}\n",
    "    \n",
    "from livelossplot import PlotLosses\n",
    "plotlosses = PlotLosses()\n",
    "\n",
    "loss_all = list()\n",
    "acc_all = list()\n",
    "val_loss_all = list()\n",
    "val_acc_all = list()\n",
    "\n",
    "for epoch in trange(epochs):\n",
    "    loss, acc = train()\n",
    "    loss_all.append(loss)\n",
    "    acc_all.append(acc)\n",
    "    val_loss, val_acc = valid()\n",
    "    val_loss_all.append(val_loss)\n",
    "    val_acc_all.append(val_acc)\n",
    "    \n",
    "    plotlosses.update({\n",
    "        'acc': acc_all[-1],\n",
    "        'val_acc': val_acc_all[-1],\n",
    "        'loss': loss_all[-1],\n",
    "        'val_loss': val_loss_all[-1]\n",
    "    })\n",
    "    plotlosses.send()\n",
    "    \n",
    "    if epoch == 50:\n",
    "        optimizer.param_groups[0]['lr'] = 1e-5"
   ]
  },
  {
   "cell_type": "code",
   "execution_count": 23,
   "metadata": {},
   "outputs": [],
   "source": [
    "# import monai\n",
    "\n",
    "# class DiceBCELoss(nn.Module):\n",
    "#     def __init__(self):        \n",
    "#         super(DiceBCELoss, self).__init__()\n",
    "#         self.dice = monai.losses.GeneralizedDiceLoss(sigmoid=False)\n",
    "#         self.ce = nn.BCELoss()        \n",
    "        \n",
    "#     def forward(self,yhat,y):\n",
    "#         dice = self.dice(yhat,y)\n",
    "#         ce = self.ce(yhat,y)\n",
    "#         return dice+ce\n",
    "    \n",
    "# class CELoss(nn.Module):\n",
    "#     def __init__(self):\n",
    "#         super(CELoss, self).__init__()\n",
    "#         self.ce = nn.CrossEntropyLoss(ignore_index= 100)\n",
    "        \n",
    "#     def forward(self,yhat,y):\n",
    "#         y = y[:,0].long()\n",
    "#         loss = self.ce(yhat,y)\n",
    "#         return loss \n",
    "\n",
    "# class DiceCELoss(nn.Module):\n",
    "#     def __init__(self):        \n",
    "#         super(DiceCELoss, self).__init__()\n",
    "#         self.dice = monai.losses.GeneralizedDiceLoss(to_onehot_y=True)\n",
    "#         self.ce = CELoss()        \n",
    "        \n",
    "#     def forward(self,yhat,y):\n",
    "#         dice = self.dice(yhat,y)\n",
    "#         ce = self.ce(yhat,y)\n",
    "#         return dice+ce\n",
    "    \n",
    "# epochs = 100\n",
    "# # lossfn = nn.BCELoss()\n",
    "# # lossfn = DiceBCELoss()\n",
    "# # lossfn = CELoss()\n",
    "# lossfn = DiceCELoss()\n",
    "# optimizer = torch.optim.Adam(model.parameters(),lr=1e-4)\n",
    "\n",
    "# def train():\n",
    "#     model.train()\n",
    "#     for idx, batch in enumerate(train_loader):\n",
    "#         x, y_seg, y_cls = batch['x'],batch['y_seg'],batch['y_cls'] \n",
    "#         x, y_seg, y_cls = x.cuda(), y_seg.cuda(), y_cls.cuda()\n",
    "#         yhat = model(x)\n",
    "#         if isinstance(yhat,tuple):\n",
    "#             yhat,yhat_aux = yhat\n",
    "#             loss_aux = F.binary_cross_entropy(yhat_aux,y_cls)\n",
    "#             loss = lossfn(yhat,y_seg) + loss_aux\n",
    "#         else:\n",
    "#             loss = lossfn(yhat,y_seg)\n",
    "#         optimizer.zero_grad()\n",
    "#         loss.backward()\n",
    "#         optimizer.step()\n",
    "#     return loss.cpu().detach().numpy()\n",
    "\n",
    "# def valid():\n",
    "#     model.eval()\n",
    "#     for idx, batch in enumerate(valid_loader):\n",
    "#         x, y_seg, y_cls = batch['x'],batch['y_seg'],batch['y_cls'] \n",
    "#         x, y_seg, y_cls = x.cuda(), y_seg.cuda(), y_cls.cuda()\n",
    "#         with torch.no_grad():\n",
    "#             yhat = model(x)\n",
    "#             if isinstance(yhat,tuple):\n",
    "#                 yhat,yhat_aux = yhat\n",
    "#                 loss_aux = F.binary_cross_entropy(yhat_aux,y_cls)\n",
    "#                 loss = lossfn(yhat,y_seg) + loss_aux\n",
    "#             else:\n",
    "#                 loss = lossfn(yhat,y_seg)\n",
    "#     return loss.cpu().detach().numpy()\n",
    "\n",
    "# def test():\n",
    "#     model.eval()\n",
    "#     result = list()\n",
    "#     result_aux = list()\n",
    "#     for idx, batch in tqdm.tqdm(enumerate(test_loader)):\n",
    "#         x, y_seg, y_cls = batch['x'],batch['y_seg'],batch['y_cls'] \n",
    "#         x, y_seg, y_cls = x.cuda(), y_seg.cuda(), y_cls.cuda()\n",
    "        \n",
    "#         with torch.no_grad():\n",
    "#             yhat = model(x)            \n",
    "#             if isinstance(yhat,tuple):\n",
    "#                 yhat,yhat_aux = yhat\n",
    "#                 result.append(yhat.cpu().detach().numpy())\n",
    "#                 result_aux.append(yhat_aux.cpu().detach().numpy())\n",
    "#             else:\n",
    "#                 result.append(yhat.cpu().detach().numpy())\n",
    "                \n",
    "#     if len(result_aux)==0:\n",
    "#         return result\n",
    "#     else:\n",
    "#         return result, result_aux\n",
    "    \n",
    "# from livelossplot import PlotLosses\n",
    "# plotlosses = PlotLosses()\n",
    "\n",
    "# loss_all = list()\n",
    "# val_loss_all = list()\n",
    "# for epoch in trange(epochs):\n",
    "#     loss = train()\n",
    "#     loss_all.append(loss)\n",
    "#     val_loss = valid()\n",
    "#     val_loss_all.append(val_loss)\n",
    "        \n",
    "#     # do something (save model, change lr, etc.)\n",
    "#     if val_loss < val_loss_all[-1]:\n",
    "#         torch.save(model, './best_segmodel.pth')\n",
    "    \n",
    "#     plotlosses.update({\n",
    "# #         'acc': train_logs['accuracy'],\n",
    "# #         'val_acc': valid_logs['accuracy'],\n",
    "#         'loss': loss_all[-1],\n",
    "#         'val_loss': val_loss_all[-1]\n",
    "#     })\n",
    "#     plotlosses.send()\n",
    "    \n",
    "#     if epoch == 50:\n",
    "#         optimizer.param_groups[0]['lr'] = 1e-5"
   ]
  },
  {
   "cell_type": "code",
   "execution_count": 24,
   "metadata": {},
   "outputs": [
    {
     "name": "stderr",
     "output_type": "stream",
     "text": [
      "100it [00:04, 20.02it/s]\n"
     ]
    }
   ],
   "source": [
    "result = test()\n",
    "xs= result['xs']\n",
    "y_segs = result['y_segs']\n",
    "y_clss = result['y_clss']\n",
    "yhat_segs = result['yhat_segs']\n",
    "yhat_clss = result['yhat_clss']"
   ]
  },
  {
   "cell_type": "code",
   "execution_count": 36,
   "metadata": {},
   "outputs": [
    {
     "ename": "ValueError",
     "evalue": "Found input variables with inconsistent numbers of samples: [100, 6553600]",
     "output_type": "error",
     "traceback": [
      "\u001b[0;31m---------------------------------------------------------------------------\u001b[0m",
      "\u001b[0;31mValueError\u001b[0m                                Traceback (most recent call last)",
      "\u001b[0;32m<ipython-input-36-03bd8bebb812>\u001b[0m in \u001b[0;36m<module>\u001b[0;34m\u001b[0m\n\u001b[0;32m----> 1\u001b[0;31m \u001b[0mprint\u001b[0m\u001b[0;34m(\u001b[0m\u001b[0;34m'Classification acc'\u001b[0m\u001b[0;34m,\u001b[0m \u001b[0maccuracy_score\u001b[0m\u001b[0;34m(\u001b[0m\u001b[0mnp\u001b[0m\u001b[0;34m.\u001b[0m\u001b[0marray\u001b[0m\u001b[0;34m(\u001b[0m\u001b[0my_clss\u001b[0m\u001b[0;34m)\u001b[0m\u001b[0;34m.\u001b[0m\u001b[0mflatten\u001b[0m\u001b[0;34m(\u001b[0m\u001b[0;34m)\u001b[0m\u001b[0;34m,\u001b[0m \u001b[0mnp\u001b[0m\u001b[0;34m.\u001b[0m\u001b[0marray\u001b[0m\u001b[0;34m(\u001b[0m\u001b[0myhat_clss\u001b[0m\u001b[0;34m)\u001b[0m\u001b[0;34m.\u001b[0m\u001b[0mflatten\u001b[0m\u001b[0;34m(\u001b[0m\u001b[0;34m)\u001b[0m\u001b[0;34m)\u001b[0m\u001b[0;34m)\u001b[0m\u001b[0;34m\u001b[0m\u001b[0;34m\u001b[0m\u001b[0m\n\u001b[0m\u001b[1;32m      2\u001b[0m \u001b[0;31m# print('Segmentation DSC', f1_score(y_segs, yhat_segs))\u001b[0m\u001b[0;34m\u001b[0m\u001b[0;34m\u001b[0m\u001b[0;34m\u001b[0m\u001b[0m\n",
      "\u001b[0;32m/opt/conda/lib/python3.8/site-packages/sklearn/utils/validation.py\u001b[0m in \u001b[0;36minner_f\u001b[0;34m(*args, **kwargs)\u001b[0m\n\u001b[1;32m     61\u001b[0m             \u001b[0mextra_args\u001b[0m \u001b[0;34m=\u001b[0m \u001b[0mlen\u001b[0m\u001b[0;34m(\u001b[0m\u001b[0margs\u001b[0m\u001b[0;34m)\u001b[0m \u001b[0;34m-\u001b[0m \u001b[0mlen\u001b[0m\u001b[0;34m(\u001b[0m\u001b[0mall_args\u001b[0m\u001b[0;34m)\u001b[0m\u001b[0;34m\u001b[0m\u001b[0;34m\u001b[0m\u001b[0m\n\u001b[1;32m     62\u001b[0m             \u001b[0;32mif\u001b[0m \u001b[0mextra_args\u001b[0m \u001b[0;34m<=\u001b[0m \u001b[0;36m0\u001b[0m\u001b[0;34m:\u001b[0m\u001b[0;34m\u001b[0m\u001b[0;34m\u001b[0m\u001b[0m\n\u001b[0;32m---> 63\u001b[0;31m                 \u001b[0;32mreturn\u001b[0m \u001b[0mf\u001b[0m\u001b[0;34m(\u001b[0m\u001b[0;34m*\u001b[0m\u001b[0margs\u001b[0m\u001b[0;34m,\u001b[0m \u001b[0;34m**\u001b[0m\u001b[0mkwargs\u001b[0m\u001b[0;34m)\u001b[0m\u001b[0;34m\u001b[0m\u001b[0;34m\u001b[0m\u001b[0m\n\u001b[0m\u001b[1;32m     64\u001b[0m \u001b[0;34m\u001b[0m\u001b[0m\n\u001b[1;32m     65\u001b[0m             \u001b[0;31m# extra_args > 0\u001b[0m\u001b[0;34m\u001b[0m\u001b[0;34m\u001b[0m\u001b[0;34m\u001b[0m\u001b[0m\n",
      "\u001b[0;32m/opt/conda/lib/python3.8/site-packages/sklearn/metrics/_classification.py\u001b[0m in \u001b[0;36maccuracy_score\u001b[0;34m(y_true, y_pred, normalize, sample_weight)\u001b[0m\n\u001b[1;32m    200\u001b[0m \u001b[0;34m\u001b[0m\u001b[0m\n\u001b[1;32m    201\u001b[0m     \u001b[0;31m# Compute accuracy for each possible representation\u001b[0m\u001b[0;34m\u001b[0m\u001b[0;34m\u001b[0m\u001b[0;34m\u001b[0m\u001b[0m\n\u001b[0;32m--> 202\u001b[0;31m     \u001b[0my_type\u001b[0m\u001b[0;34m,\u001b[0m \u001b[0my_true\u001b[0m\u001b[0;34m,\u001b[0m \u001b[0my_pred\u001b[0m \u001b[0;34m=\u001b[0m \u001b[0m_check_targets\u001b[0m\u001b[0;34m(\u001b[0m\u001b[0my_true\u001b[0m\u001b[0;34m,\u001b[0m \u001b[0my_pred\u001b[0m\u001b[0;34m)\u001b[0m\u001b[0;34m\u001b[0m\u001b[0;34m\u001b[0m\u001b[0m\n\u001b[0m\u001b[1;32m    203\u001b[0m     \u001b[0mcheck_consistent_length\u001b[0m\u001b[0;34m(\u001b[0m\u001b[0my_true\u001b[0m\u001b[0;34m,\u001b[0m \u001b[0my_pred\u001b[0m\u001b[0;34m,\u001b[0m \u001b[0msample_weight\u001b[0m\u001b[0;34m)\u001b[0m\u001b[0;34m\u001b[0m\u001b[0;34m\u001b[0m\u001b[0m\n\u001b[1;32m    204\u001b[0m     \u001b[0;32mif\u001b[0m \u001b[0my_type\u001b[0m\u001b[0;34m.\u001b[0m\u001b[0mstartswith\u001b[0m\u001b[0;34m(\u001b[0m\u001b[0;34m'multilabel'\u001b[0m\u001b[0;34m)\u001b[0m\u001b[0;34m:\u001b[0m\u001b[0;34m\u001b[0m\u001b[0;34m\u001b[0m\u001b[0m\n",
      "\u001b[0;32m/opt/conda/lib/python3.8/site-packages/sklearn/metrics/_classification.py\u001b[0m in \u001b[0;36m_check_targets\u001b[0;34m(y_true, y_pred)\u001b[0m\n\u001b[1;32m     81\u001b[0m     \u001b[0my_pred\u001b[0m \u001b[0;34m:\u001b[0m \u001b[0marray\u001b[0m \u001b[0;32mor\u001b[0m \u001b[0mindicator\u001b[0m \u001b[0mmatrix\u001b[0m\u001b[0;34m\u001b[0m\u001b[0;34m\u001b[0m\u001b[0m\n\u001b[1;32m     82\u001b[0m     \"\"\"\n\u001b[0;32m---> 83\u001b[0;31m     \u001b[0mcheck_consistent_length\u001b[0m\u001b[0;34m(\u001b[0m\u001b[0my_true\u001b[0m\u001b[0;34m,\u001b[0m \u001b[0my_pred\u001b[0m\u001b[0;34m)\u001b[0m\u001b[0;34m\u001b[0m\u001b[0;34m\u001b[0m\u001b[0m\n\u001b[0m\u001b[1;32m     84\u001b[0m     \u001b[0mtype_true\u001b[0m \u001b[0;34m=\u001b[0m \u001b[0mtype_of_target\u001b[0m\u001b[0;34m(\u001b[0m\u001b[0my_true\u001b[0m\u001b[0;34m)\u001b[0m\u001b[0;34m\u001b[0m\u001b[0;34m\u001b[0m\u001b[0m\n\u001b[1;32m     85\u001b[0m     \u001b[0mtype_pred\u001b[0m \u001b[0;34m=\u001b[0m \u001b[0mtype_of_target\u001b[0m\u001b[0;34m(\u001b[0m\u001b[0my_pred\u001b[0m\u001b[0;34m)\u001b[0m\u001b[0;34m\u001b[0m\u001b[0;34m\u001b[0m\u001b[0m\n",
      "\u001b[0;32m/opt/conda/lib/python3.8/site-packages/sklearn/utils/validation.py\u001b[0m in \u001b[0;36mcheck_consistent_length\u001b[0;34m(*arrays)\u001b[0m\n\u001b[1;32m    317\u001b[0m     \u001b[0muniques\u001b[0m \u001b[0;34m=\u001b[0m \u001b[0mnp\u001b[0m\u001b[0;34m.\u001b[0m\u001b[0munique\u001b[0m\u001b[0;34m(\u001b[0m\u001b[0mlengths\u001b[0m\u001b[0;34m)\u001b[0m\u001b[0;34m\u001b[0m\u001b[0;34m\u001b[0m\u001b[0m\n\u001b[1;32m    318\u001b[0m     \u001b[0;32mif\u001b[0m \u001b[0mlen\u001b[0m\u001b[0;34m(\u001b[0m\u001b[0muniques\u001b[0m\u001b[0;34m)\u001b[0m \u001b[0;34m>\u001b[0m \u001b[0;36m1\u001b[0m\u001b[0;34m:\u001b[0m\u001b[0;34m\u001b[0m\u001b[0;34m\u001b[0m\u001b[0m\n\u001b[0;32m--> 319\u001b[0;31m         raise ValueError(\"Found input variables with inconsistent numbers of\"\n\u001b[0m\u001b[1;32m    320\u001b[0m                          \" samples: %r\" % [int(l) for l in lengths])\n\u001b[1;32m    321\u001b[0m \u001b[0;34m\u001b[0m\u001b[0m\n",
      "\u001b[0;31mValueError\u001b[0m: Found input variables with inconsistent numbers of samples: [100, 6553600]"
     ]
    }
   ],
   "source": [
    "print('Classification acc', accuracy_score(np.array(y_clss).flatten(), np.array(yhat_clss).flatten()))\n",
    "# print('Segmentation DSC', f1_score(y_segs, yhat_segs))"
   ]
  },
  {
   "cell_type": "code",
   "execution_count": 25,
   "metadata": {},
   "outputs": [
    {
     "ename": "ValueError",
     "evalue": "Classification metrics can't handle a mix of binary and unknown targets",
     "output_type": "error",
     "traceback": [
      "\u001b[0;31m---------------------------------------------------------------------------\u001b[0m",
      "\u001b[0;31mValueError\u001b[0m                                Traceback (most recent call last)",
      "\u001b[0;32m<ipython-input-25-25dfeaa89d25>\u001b[0m in \u001b[0;36m<module>\u001b[0;34m\u001b[0m\n\u001b[1;32m      3\u001b[0m \u001b[0;32mfrom\u001b[0m \u001b[0msklearn\u001b[0m\u001b[0;34m.\u001b[0m\u001b[0mmetrics\u001b[0m \u001b[0;32mimport\u001b[0m \u001b[0maccuracy_score\u001b[0m\u001b[0;34m,\u001b[0m \u001b[0mf1_score\u001b[0m\u001b[0;34m,\u001b[0m \u001b[0mconfusion_matrix\u001b[0m\u001b[0;34m,\u001b[0m \u001b[0mConfusionMatrixDisplay\u001b[0m\u001b[0;34m\u001b[0m\u001b[0;34m\u001b[0m\u001b[0m\n\u001b[1;32m      4\u001b[0m \u001b[0;34m\u001b[0m\u001b[0m\n\u001b[0;32m----> 5\u001b[0;31m \u001b[0mcm\u001b[0m \u001b[0;34m=\u001b[0m \u001b[0mconfusion_matrix\u001b[0m\u001b[0;34m(\u001b[0m\u001b[0my_clss\u001b[0m\u001b[0;34m,\u001b[0m \u001b[0myhat_clss\u001b[0m\u001b[0;34m)\u001b[0m\u001b[0;34m\u001b[0m\u001b[0;34m\u001b[0m\u001b[0m\n\u001b[0m\u001b[1;32m      6\u001b[0m \u001b[0mcm_display\u001b[0m \u001b[0;34m=\u001b[0m \u001b[0mConfusionMatrixDisplay\u001b[0m\u001b[0;34m(\u001b[0m\u001b[0mcm\u001b[0m\u001b[0;34m)\u001b[0m\u001b[0;34m.\u001b[0m\u001b[0mplot\u001b[0m\u001b[0;34m(\u001b[0m\u001b[0;34m)\u001b[0m\u001b[0;34m\u001b[0m\u001b[0;34m\u001b[0m\u001b[0m\n\u001b[1;32m      7\u001b[0m \u001b[0;34m\u001b[0m\u001b[0m\n",
      "\u001b[0;32m/opt/conda/lib/python3.8/site-packages/sklearn/utils/validation.py\u001b[0m in \u001b[0;36minner_f\u001b[0;34m(*args, **kwargs)\u001b[0m\n\u001b[1;32m     61\u001b[0m             \u001b[0mextra_args\u001b[0m \u001b[0;34m=\u001b[0m \u001b[0mlen\u001b[0m\u001b[0;34m(\u001b[0m\u001b[0margs\u001b[0m\u001b[0;34m)\u001b[0m \u001b[0;34m-\u001b[0m \u001b[0mlen\u001b[0m\u001b[0;34m(\u001b[0m\u001b[0mall_args\u001b[0m\u001b[0;34m)\u001b[0m\u001b[0;34m\u001b[0m\u001b[0;34m\u001b[0m\u001b[0m\n\u001b[1;32m     62\u001b[0m             \u001b[0;32mif\u001b[0m \u001b[0mextra_args\u001b[0m \u001b[0;34m<=\u001b[0m \u001b[0;36m0\u001b[0m\u001b[0;34m:\u001b[0m\u001b[0;34m\u001b[0m\u001b[0;34m\u001b[0m\u001b[0m\n\u001b[0;32m---> 63\u001b[0;31m                 \u001b[0;32mreturn\u001b[0m \u001b[0mf\u001b[0m\u001b[0;34m(\u001b[0m\u001b[0;34m*\u001b[0m\u001b[0margs\u001b[0m\u001b[0;34m,\u001b[0m \u001b[0;34m**\u001b[0m\u001b[0mkwargs\u001b[0m\u001b[0;34m)\u001b[0m\u001b[0;34m\u001b[0m\u001b[0;34m\u001b[0m\u001b[0m\n\u001b[0m\u001b[1;32m     64\u001b[0m \u001b[0;34m\u001b[0m\u001b[0m\n\u001b[1;32m     65\u001b[0m             \u001b[0;31m# extra_args > 0\u001b[0m\u001b[0;34m\u001b[0m\u001b[0;34m\u001b[0m\u001b[0;34m\u001b[0m\u001b[0m\n",
      "\u001b[0;32m/opt/conda/lib/python3.8/site-packages/sklearn/metrics/_classification.py\u001b[0m in \u001b[0;36mconfusion_matrix\u001b[0;34m(y_true, y_pred, labels, sample_weight, normalize)\u001b[0m\n\u001b[1;32m    297\u001b[0m \u001b[0;34m\u001b[0m\u001b[0m\n\u001b[1;32m    298\u001b[0m     \"\"\"\n\u001b[0;32m--> 299\u001b[0;31m     \u001b[0my_type\u001b[0m\u001b[0;34m,\u001b[0m \u001b[0my_true\u001b[0m\u001b[0;34m,\u001b[0m \u001b[0my_pred\u001b[0m \u001b[0;34m=\u001b[0m \u001b[0m_check_targets\u001b[0m\u001b[0;34m(\u001b[0m\u001b[0my_true\u001b[0m\u001b[0;34m,\u001b[0m \u001b[0my_pred\u001b[0m\u001b[0;34m)\u001b[0m\u001b[0;34m\u001b[0m\u001b[0;34m\u001b[0m\u001b[0m\n\u001b[0m\u001b[1;32m    300\u001b[0m     \u001b[0;32mif\u001b[0m \u001b[0my_type\u001b[0m \u001b[0;32mnot\u001b[0m \u001b[0;32min\u001b[0m \u001b[0;34m(\u001b[0m\u001b[0;34m\"binary\"\u001b[0m\u001b[0;34m,\u001b[0m \u001b[0;34m\"multiclass\"\u001b[0m\u001b[0;34m)\u001b[0m\u001b[0;34m:\u001b[0m\u001b[0;34m\u001b[0m\u001b[0;34m\u001b[0m\u001b[0m\n\u001b[1;32m    301\u001b[0m         \u001b[0;32mraise\u001b[0m \u001b[0mValueError\u001b[0m\u001b[0;34m(\u001b[0m\u001b[0;34m\"%s is not supported\"\u001b[0m \u001b[0;34m%\u001b[0m \u001b[0my_type\u001b[0m\u001b[0;34m)\u001b[0m\u001b[0;34m\u001b[0m\u001b[0;34m\u001b[0m\u001b[0m\n",
      "\u001b[0;32m/opt/conda/lib/python3.8/site-packages/sklearn/metrics/_classification.py\u001b[0m in \u001b[0;36m_check_targets\u001b[0;34m(y_true, y_pred)\u001b[0m\n\u001b[1;32m     90\u001b[0m \u001b[0;34m\u001b[0m\u001b[0m\n\u001b[1;32m     91\u001b[0m     \u001b[0;32mif\u001b[0m \u001b[0mlen\u001b[0m\u001b[0;34m(\u001b[0m\u001b[0my_type\u001b[0m\u001b[0;34m)\u001b[0m \u001b[0;34m>\u001b[0m \u001b[0;36m1\u001b[0m\u001b[0;34m:\u001b[0m\u001b[0;34m\u001b[0m\u001b[0;34m\u001b[0m\u001b[0m\n\u001b[0;32m---> 92\u001b[0;31m         raise ValueError(\"Classification metrics can't handle a mix of {0} \"\n\u001b[0m\u001b[1;32m     93\u001b[0m                          \"and {1} targets\".format(type_true, type_pred))\n\u001b[1;32m     94\u001b[0m \u001b[0;34m\u001b[0m\u001b[0m\n",
      "\u001b[0;31mValueError\u001b[0m: Classification metrics can't handle a mix of binary and unknown targets"
     ]
    }
   ],
   "source": [
    "y_clss = [k.numpy()[0,0] for k in y_clss]\n",
    "yhat_clss = [k[0,0].round() for k in yhat_clss]\n",
    "from sklearn.metrics import accuracy_score, f1_score, confusion_matrix, ConfusionMatrixDisplay\n",
    "\n",
    "cm = confusion_matrix(y_clss, yhat_clss)\n",
    "cm_display = ConfusionMatrixDisplay(cm).plot()\n",
    "\n",
    "print('Classification acc', accuracy_score(y_clss, yhat_clss))\n",
    "print('Segmentation DSC', f1_score(y_segs, yhat_segs))"
   ]
  },
  {
   "cell_type": "code",
   "execution_count": null,
   "metadata": {},
   "outputs": [],
   "source": [
    "for idx in range(len(y_clss)):\n",
    "    print('idx: {} - GT:{} PRED:{}'.format(idx, y_clss[idx], yhat_clss[idx]))\n",
    "    visualize(\n",
    "        x=xs[idx][0], \n",
    "        y_seg=y_segs[idx][0], \n",
    "        y_hat_segs=np.argmax(yhat_segs[idx][0],0),\n",
    "        y_hat_segs_processed=np.argmax(yhat_segs[idx][0],0)*yhat_clss[idx].round()\n",
    "    )"
   ]
  },
  {
   "cell_type": "code",
   "execution_count": null,
   "metadata": {},
   "outputs": [],
   "source": [
    "# loss = smp.utils.losses.BCELoss()+smp.utils.losses.DiceLoss()\n",
    "# # import torch.nn as nn\n",
    "# # loss = nn.BCELoss()\n",
    "\n",
    "metrics = [\n",
    "#     smp.utils.metrics.IoU(threshold=0.5),\n",
    "    smp.utils.metrics.Accuracy(threshold=0.5),\n",
    "]\n",
    "\n",
    "# optimizer = torch.optim.Adam([ \n",
    "#     dict(params=model.parameters(), lr=0.001),\n",
    "# ])"
   ]
  },
  {
   "cell_type": "code",
   "execution_count": null,
   "metadata": {},
   "outputs": [],
   "source": [
    "# create epoch runners \n",
    "# it is a simple loop of iterating over dataloader`s samples\n",
    "train_epoch = smp.utils.train.TrainEpoch(\n",
    "    model, \n",
    "    loss=loss, \n",
    "    metrics=metrics, \n",
    "    optimizer=optimizer,\n",
    "    device=DEVICE,\n",
    "    verbose=True,\n",
    ")\n",
    "\n",
    "valid_epoch = smp.utils.train.ValidEpoch(\n",
    "    model, \n",
    "    loss=loss, \n",
    "    metrics=metrics, \n",
    "    device=DEVICE,\n",
    "    verbose=True,\n",
    ")"
   ]
  },
  {
   "cell_type": "code",
   "execution_count": null,
   "metadata": {},
   "outputs": [],
   "source": [
    "max_score = 0\n",
    "from livelossplot import PlotLosses\n",
    "plotlosses = PlotLosses()\n",
    "\n",
    "for i in range(0, 100):    \n",
    "    print('\\nEpoch: {}'.format(i))\n",
    "    train_logs = train_epoch.run(train_loader)\n",
    "    valid_logs = valid_epoch.run(valid_loader)\n",
    "    \n",
    "    # do something (save model, change lr, etc.)\n",
    "    if max_score < valid_logs['accuracy']:\n",
    "        max_score = valid_logs['accuracy']\n",
    "        torch.save(model, './best_model.pth')\n",
    "        print('Model saved!')\n",
    "    \n",
    "    plotlosses.update({\n",
    "        'acc': train_logs['accuracy'],\n",
    "        'val_acc': valid_logs['accuracy'],\n",
    "        'loss': train_logs['bce_loss + dice_loss'],\n",
    "        'val_loss': valid_logs['bce_loss + dice_loss']\n",
    "    })\n",
    "    plotlosses.send()\n",
    "\n",
    "    if i == 50:\n",
    "        optimizer.param_groups[0]['lr'] = 1e-5\n",
    "        print('Decrease decoder learning rate to 1e-5!')"
   ]
  },
  {
   "cell_type": "markdown",
   "metadata": {},
   "source": [
    "## Test best saved modelAdam"
   ]
  },
  {
   "cell_type": "code",
   "execution_count": null,
   "metadata": {},
   "outputs": [],
   "source": [
    "# load best saved checkpoint\n",
    "best_model = torch.load('./best_model.pth')"
   ]
  },
  {
   "cell_type": "code",
   "execution_count": null,
   "metadata": {},
   "outputs": [],
   "source": [
    "# create test dataset\n",
    "test_dataset = Dataset(\n",
    "    x_test_dir, \n",
    "    y_test_dir, \n",
    "    augmentation=get_validation_augmentation(), \n",
    "    preprocessing=get_preprocessing(),\n",
    ")\n",
    "\n",
    "test_dataloader = DataLoader(test_dataset)"
   ]
  },
  {
   "cell_type": "code",
   "execution_count": null,
   "metadata": {},
   "outputs": [],
   "source": [
    "# # evaluate model on test set\n",
    "# test_epoch = smp.utils.train.ValidEpoch(\n",
    "#     model=best_model,\n",
    "#     loss=loss,\n",
    "#     metrics=metrics,\n",
    "#     device=DEVICE,\n",
    "# )\n",
    "\n",
    "# logs = test_epoch.run(test_dataloader)"
   ]
  },
  {
   "cell_type": "markdown",
   "metadata": {},
   "source": [
    "## Visualize predictions"
   ]
  },
  {
   "cell_type": "code",
   "execution_count": null,
   "metadata": {},
   "outputs": [],
   "source": [
    "# test dataset without transformations for image visualization\n",
    "test_dataset_vis = Dataset(\n",
    "    x_test_dir, y_test_dir, \n",
    ")"
   ]
  },
  {
   "cell_type": "code",
   "execution_count": null,
   "metadata": {},
   "outputs": [],
   "source": [
    "for i in range(100):\n",
    "    \n",
    "    image_vis = test_dataset_vis[i][0].astype('uint8')\n",
    "    image, gt_mask = test_dataset[i]\n",
    "    \n",
    "    gt_mask = gt_mask.squeeze()\n",
    "    \n",
    "    x_tensor = torch.from_numpy(image).to(DEVICE).unsqueeze(0)\n",
    "    pr_mask = best_model.predict(x_tensor)\n",
    "    pr_mask = (pr_mask.squeeze().cpu().numpy().round())\n",
    "        \n",
    "    visualize(\n",
    "        image=image_vis, \n",
    "        ground_truth_mask=gt_mask, \n",
    "        predicted_mask=pr_mask\n",
    "    )"
   ]
  },
  {
   "cell_type": "code",
   "execution_count": null,
   "metadata": {},
   "outputs": [],
   "source": [
    "for i in range(10):\n",
    "    n = np.random.choice(len(test_dataset))\n",
    "    \n",
    "    image_vis = test_dataset_vis[n][0].astype('uint8')\n",
    "    image, gt_mask = test_dataset[n]\n",
    "    \n",
    "    gt_mask = gt_mask.squeeze()\n",
    "    \n",
    "    x_tensor = torch.from_numpy(image).to(DEVICE).unsqueeze(0)\n",
    "    pr_mask = best_model.predict(x_tensor)\n",
    "    pr_mask = (pr_mask.squeeze().cpu().numpy().round())\n",
    "        \n",
    "    visualize(\n",
    "        image=image_vis, \n",
    "        ground_truth_mask=gt_mask, \n",
    "        predicted_mask=pr_mask\n",
    "    )"
   ]
  },
  {
   "cell_type": "code",
   "execution_count": null,
   "metadata": {},
   "outputs": [],
   "source": []
  }
 ],
 "metadata": {
  "kernelspec": {
   "display_name": "Python 3",
   "language": "python",
   "name": "python3"
  },
  "language_info": {
   "codemirror_mode": {
    "name": "ipython",
    "version": 3
   },
   "file_extension": ".py",
   "mimetype": "text/x-python",
   "name": "python",
   "nbconvert_exporter": "python",
   "pygments_lexer": "ipython3",
   "version": "3.8.8"
  }
 },
 "nbformat": 4,
 "nbformat_minor": 4
}
